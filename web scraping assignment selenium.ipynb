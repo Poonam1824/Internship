{
 "cells": [
  {
   "cell_type": "markdown",
   "id": "815df241",
   "metadata": {},
   "source": [
    "# Q1: Write a python program to scrape data for “Data Analyst” Job position in “Bangalore” location. Youhave to scrape the job-title, job-location, company_name, experience_required. You have to scrape first 10 jobs data."
   ]
  },
  {
   "cell_type": "code",
   "execution_count": null,
   "id": "291e11de",
   "metadata": {},
   "outputs": [],
   "source": [
    "!pip install selenium\n",
    "!pip install webdriver-manager\n",
    "import selenium\n",
    "from selenium import webdriver\n",
    "from webdriver_manager.chrome import ChromeDriverManager\n",
    "import pandas as pd\n",
    "import warnings\n",
    "warnings.filterwarnings(\"ignore\")\n",
    "driver=webdriver.Chrome(ChromeDriverManager().install())\n",
    "url='https://www.naukri.com/'\n",
    "driver.get(url)"
   ]
  },
  {
   "cell_type": "code",
   "execution_count": null,
   "id": "81f4a4b1",
   "metadata": {},
   "outputs": [],
   "source": [
    "search_job=driver.find_element_by_class_name(\"suggestor-input\")\n",
    "search_job\n",
    "search_job.send_keys('Data analyst')\n",
    "search_locn= driver.find_element_by_xpath('//*[@id=\"root\"]/div[2]/div[3]/div/div/div[3]/div/div/div/input')\n",
    "search_locn\n",
    "search_locn.send_keys(\"banglore\")\n",
    "search_btn=driver.find_element_by_xpath('//*[@id=\"root\"]/div[2]/div[3]/div/div/div[6]')\n",
    "search_btn\n",
    "search_btn.click()\n"
   ]
  },
  {
   "cell_type": "code",
   "execution_count": null,
   "id": "b12e70df",
   "metadata": {},
   "outputs": [],
   "source": [
    "title_tags=driver.find_elements_by_xpath('//a[@class=\"title fw500 ellipsis\"]')\n",
    "title_tags[0:10]\n",
    "job_titles=[]\n",
    "for i in title_tags:\n",
    "    job_titles.append(i.text)\n",
    "len(job_titles)\n",
    "job_titles1=job_titles[0:10]\n",
    "job_titles1"
   ]
  },
  {
   "cell_type": "code",
   "execution_count": null,
   "id": "fbfd8f66",
   "metadata": {},
   "outputs": [],
   "source": [
    "company_tags=driver.find_elements_by_xpath('//a[@class=\"subTitle ellipsis fleft\"]')\n",
    "company_tags[0:10]\n",
    "company_titles=[]\n",
    "for i in company_tags:\n",
    "    company_titles.append(i.text)\n",
    "len(company_titles)\n",
    "company_titles1=company_titles[0:10]\n",
    "company_titles1"
   ]
  },
  {
   "cell_type": "code",
   "execution_count": null,
   "id": "9085ab96",
   "metadata": {},
   "outputs": [],
   "source": [
    "loc=driver.find_elements_by_xpath('//li[@class=\"fleft grey-text br2 placeHolderLi location\"]')\n",
    "loc[0:10]\n",
    "location=[]\n",
    "for i in loc:\n",
    "    location.append(i.text)\n",
    "len(location)\n",
    "location1=location[0:10]\n",
    "location1"
   ]
  },
  {
   "cell_type": "code",
   "execution_count": null,
   "id": "561effbf",
   "metadata": {},
   "outputs": [],
   "source": [
    "Exp=driver.find_elements_by_xpath('//li[@class=\"fleft grey-text br2 placeHolderLi experience\"]')\n",
    "Exp[0:10]\n",
    "Experience=[]\n",
    "for i in Exp:\n",
    "    Experience.append(i.text)\n",
    "len(Experience)\n",
    "Experience1=Experience[0:10]\n",
    "Experience1"
   ]
  },
  {
   "cell_type": "code",
   "execution_count": null,
   "id": "51f64481",
   "metadata": {},
   "outputs": [],
   "source": [
    "jobs=pd.DataFrame({'Job title':job_titles1,'Company Name':company_titles1,'location':location1,'Experience':Experience1})\n",
    "jobs"
   ]
  },
  {
   "cell_type": "markdown",
   "id": "93791bf8",
   "metadata": {},
   "source": [
    "# Q2: Write a python program to scrape data for “Data Scientist” Job position in “Bangalore” location. You have to scrape the job-title, job-location, company_name. You have to scrape first 10 jobs data."
   ]
  },
  {
   "cell_type": "code",
   "execution_count": null,
   "id": "f29b8837",
   "metadata": {},
   "outputs": [],
   "source": [
    "!pip install selenium\n",
    "!pip install webdriver-manager\n",
    "import selenium\n",
    "from selenium import webdriver\n",
    "from webdriver_manager.chrome import ChromeDriverManager\n",
    "import pandas as pd\n",
    "import warnings\n",
    "warnings.filterwarnings(\"ignore\")\n",
    "driver=webdriver.Chrome(ChromeDriverManager().install())\n",
    "url='https://www.naukri.com/'\n",
    "driver.get(url)"
   ]
  },
  {
   "cell_type": "code",
   "execution_count": null,
   "id": "c8e36a02",
   "metadata": {
    "scrolled": true
   },
   "outputs": [],
   "source": [
    "search_job=driver.find_element_by_class_name(\"suggestor-input\")\n",
    "search_job\n",
    "search_job.send_keys('Data scientist')\n",
    "search_locn= driver.find_element_by_xpath('//*[@id=\"root\"]/div[2]/div[3]/div/div/div[3]/div/div/div/input')\n",
    "search_locn\n",
    "search_locn.send_keys(\"banglore\")\n",
    "search_btn=driver.find_element_by_xpath('//*[@id=\"root\"]/div[2]/div[3]/div/div/div[6]')\n",
    "search_btn\n",
    "search_btn.click()"
   ]
  },
  {
   "cell_type": "code",
   "execution_count": null,
   "id": "9456a5de",
   "metadata": {},
   "outputs": [],
   "source": [
    "title_tags=driver.find_elements_by_xpath('//a[@class=\"title fw500 ellipsis\"]')\n",
    "title_tags[0:10]\n",
    "job_titles=[]\n",
    "for i in title_tags:\n",
    "    job_titles.append(i.text)\n",
    "len(job_titles)\n",
    "job_titles1=job_titles[0:10]\n",
    "job_titles1"
   ]
  },
  {
   "cell_type": "code",
   "execution_count": null,
   "id": "fdb3e291",
   "metadata": {},
   "outputs": [],
   "source": [
    "company_tags=driver.find_elements_by_xpath('//a[@class=\"subTitle ellipsis fleft\"]')\n",
    "company_tags[0:10]\n",
    "company_titles=[]\n",
    "for i in company_tags:\n",
    "    company_titles.append(i.text)\n",
    "len(company_titles)\n",
    "company_titles1=company_titles[0:10]\n",
    "company_titles1"
   ]
  },
  {
   "cell_type": "code",
   "execution_count": null,
   "id": "b4125784",
   "metadata": {},
   "outputs": [],
   "source": [
    "loc=driver.find_elements_by_xpath('//li[@class=\"fleft grey-text br2 placeHolderLi location\"]')\n",
    "loc[0:10]\n",
    "location=[]\n",
    "for i in loc:\n",
    "    location.append(i.text)\n",
    "len(location)\n",
    "location1=location[0:10]\n",
    "location1"
   ]
  },
  {
   "cell_type": "code",
   "execution_count": null,
   "id": "74d10bf5",
   "metadata": {},
   "outputs": [],
   "source": [
    "jobs=pd.DataFrame({'Job title':job_titles1,'Company Name':company_titles1,'location':location1})\n",
    "jobs"
   ]
  },
  {
   "cell_type": "markdown",
   "id": "e26b9cbf",
   "metadata": {},
   "source": [
    "# Q3: In this question you have to scrape data using the filters available on the webpage"
   ]
  },
  {
   "cell_type": "code",
   "execution_count": null,
   "id": "77385151",
   "metadata": {},
   "outputs": [],
   "source": [
    "!pip install selenium\n",
    "!pip install webdriver-manager\n",
    "import selenium\n",
    "from selenium import webdriver\n",
    "from webdriver_manager.chrome import ChromeDriverManager\n",
    "import pandas as pd\n",
    "import warnings\n",
    "warnings.filterwarnings(\"ignore\")\n",
    "driver=webdriver.Chrome(ChromeDriverManager().install())\n",
    "url='https://www.naukri.com/'\n",
    "driver.get(url)"
   ]
  },
  {
   "cell_type": "code",
   "execution_count": null,
   "id": "40fb5c2d",
   "metadata": {},
   "outputs": [],
   "source": [
    "search_job=driver.find_element_by_class_name(\"suggestor-input\")\n",
    "search_job\n",
    "search_job.send_keys('Data scientist')"
   ]
  },
  {
   "cell_type": "code",
   "execution_count": null,
   "id": "4e8912b9",
   "metadata": {},
   "outputs": [],
   "source": [
    "search_btn=driver.find_element_by_xpath('//*[@id=\"root\"]/div[2]/div[3]/div/div/div[6]')\n",
    "search_btn\n",
    "search_btn.click()"
   ]
  },
  {
   "cell_type": "code",
   "execution_count": null,
   "id": "4bdf0b37",
   "metadata": {},
   "outputs": [],
   "source": [
    "search_locn= driver.find_element_by_xpath('//*[@id=\"root\"]/div[3]/div[2]/section[1]/div[2]/div[3]/div[2]/div[3]/label/p/span[1]')\n",
    "search_locn.click()"
   ]
  },
  {
   "cell_type": "code",
   "execution_count": null,
   "id": "47a58a57",
   "metadata": {},
   "outputs": [],
   "source": [
    "search_salary= driver.find_element_by_xpath('//*[@id=\"root\"]/div[3]/div[2]/section[1]/div[2]/div[4]/div[2]/div[2]/label/p/span[1]')\n",
    "search_salary.click()"
   ]
  },
  {
   "cell_type": "code",
   "execution_count": null,
   "id": "f5502e4b",
   "metadata": {},
   "outputs": [],
   "source": [
    "title_tags=driver.find_elements_by_xpath('//a[@class=\"title fw500 ellipsis\"]')\n",
    "title_tags[0:10]\n",
    "job_titles=[]\n",
    "for i in title_tags:\n",
    "    job_titles.append(i.text)\n",
    "len(job_titles)\n",
    "job_titles1=job_titles[0:10]\n",
    "job_titles1"
   ]
  },
  {
   "cell_type": "code",
   "execution_count": null,
   "id": "3d26c91b",
   "metadata": {},
   "outputs": [],
   "source": [
    "company_tags=driver.find_elements_by_xpath('//a[@class=\"subTitle ellipsis fleft\"]')\n",
    "company_tags[0:10]\n",
    "company_titles=[]\n",
    "for i in company_tags:\n",
    "    company_titles.append(i.text)\n",
    "len(company_titles)\n",
    "company_titles1=company_titles[0:10]\n",
    "company_titles1"
   ]
  },
  {
   "cell_type": "code",
   "execution_count": null,
   "id": "13470b55",
   "metadata": {},
   "outputs": [],
   "source": [
    "loc=driver.find_elements_by_xpath('//li[@class=\"fleft grey-text br2 placeHolderLi location\"]')\n",
    "loc[0:10]\n",
    "location=[]\n",
    "for i in loc:\n",
    "    location.append(i.text)\n",
    "len(location)\n",
    "location1=location[0:10]\n",
    "location1"
   ]
  },
  {
   "cell_type": "code",
   "execution_count": null,
   "id": "a43f823f",
   "metadata": {},
   "outputs": [],
   "source": [
    "Exp=driver.find_elements_by_xpath('//li[@class=\"fleft grey-text br2 placeHolderLi experience\"]')\n",
    "Exp[0:10]\n",
    "Experience=[]\n",
    "for i in Exp:\n",
    "    Experience.append(i.text)\n",
    "len(Experience)\n",
    "Experience1=Experience[0:10]\n",
    "Experience1"
   ]
  },
  {
   "cell_type": "code",
   "execution_count": null,
   "id": "d6ec0243",
   "metadata": {},
   "outputs": [],
   "source": [
    "jobs=pd.DataFrame({'Job title':job_titles1,'Company Name':company_titles1,'location':location1})\n",
    "jobs"
   ]
  },
  {
   "cell_type": "markdown",
   "id": "c2dcc98f",
   "metadata": {},
   "source": [
    "# Q4: Scrape data of first 100 sunglasses listings on flipkart.com. You have to   scrape four attributes"
   ]
  },
  {
   "cell_type": "code",
   "execution_count": null,
   "id": "3fc56406",
   "metadata": {},
   "outputs": [],
   "source": [
    "!pip install selenium\n",
    "!pip install webdriver-manager\n",
    "import selenium\n",
    "from selenium import webdriver\n",
    "from webdriver_manager.chrome import ChromeDriverManager\n",
    "import pandas as pd\n",
    "import warnings\n",
    "warnings.filterwarnings(\"ignore\")\n",
    "driver=webdriver.Chrome(ChromeDriverManager().install())\n",
    "url='https://www.flipkart.com/'\n",
    "driver.get(url)"
   ]
  },
  {
   "cell_type": "code",
   "execution_count": null,
   "id": "c03948f9",
   "metadata": {},
   "outputs": [],
   "source": [
    "search_title=driver.find_element_by_xpath('//*[@id=\"container\"]/div/div[1]/div[1]/div[2]/div[2]/form/div/div/input')\n",
    "search_title\n",
    "search_title.send_keys('sunglasses')"
   ]
  },
  {
   "cell_type": "code",
   "execution_count": null,
   "id": "eec15651",
   "metadata": {},
   "outputs": [],
   "source": [
    "search_btn=driver.find_element_by_xpath('//*[@id=\"container\"]/div/div[2]/div[1]/div[2]/div[2]/form/div/button')\n",
    "search_btn\n",
    "search_btn.click()"
   ]
  },
  {
   "cell_type": "code",
   "execution_count": null,
   "id": "d822805a",
   "metadata": {},
   "outputs": [],
   "source": [
    "Brand_Name=driver.find_elements_by_xpath('//div[@class=\"_2WkVRV\"]')\n",
    "Brand=[]\n",
    "for i in Brand_Name:\n",
    "    Brand.append(i.text)\n",
    "len(Brand)\n",
    "Brand1=Brand\n",
    "Brand1[0:2]"
   ]
  },
  {
   "cell_type": "code",
   "execution_count": null,
   "id": "b0f0e0e1",
   "metadata": {},
   "outputs": [],
   "source": [
    "Product_Description=driver.find_elements_by_xpath('//a[@class=\"IRpwTa\"]')\n",
    "Product=[]\n",
    "for i in Product_Description:\n",
    "    Product.append(i.text)\n",
    "Product1=Product\n",
    "Product1[0:2]"
   ]
  },
  {
   "cell_type": "code",
   "execution_count": null,
   "id": "272081f4",
   "metadata": {},
   "outputs": [],
   "source": [
    "Price_Name=driver.find_elements_by_xpath('//div[@class=\"_30jeq3\"]')\n",
    "Price=[]\n",
    "for i in Price_Name:\n",
    "    Price.append(i.text)\n",
    "Price1=Price[0:40]\n",
    "Price1[0:2]"
   ]
  },
  {
   "cell_type": "code",
   "execution_count": null,
   "id": "88dcb407",
   "metadata": {},
   "outputs": [],
   "source": [
    "Next_btn=driver.find_element_by_xpath('//*[@id=\"container\"]/div/div[3]/div[1]/div[2]/div[12]/div/div/nav/a[11]/span')\n",
    "Next_btn\n",
    "Next_btn.click()"
   ]
  },
  {
   "cell_type": "code",
   "execution_count": null,
   "id": "d3b88fbd",
   "metadata": {},
   "outputs": [],
   "source": [
    "Brand_Name=driver.find_elements_by_xpath('//div[@class=\"_2WkVRV\"]')\n",
    "Brand=[]\n",
    "for i in Brand_Name:\n",
    "    Brand.append(i.text)\n",
    "len(Brand)\n",
    "Brand2=Brand\n",
    "Brand2[0:2]"
   ]
  },
  {
   "cell_type": "code",
   "execution_count": null,
   "id": "e5a64bdb",
   "metadata": {},
   "outputs": [],
   "source": [
    "Product_Description=driver.find_elements_by_xpath('//a[@class=\"IRpwTa\"]')\n",
    "Product=[]\n",
    "for i in Product_Description:\n",
    "    Product.append(i.text)\n",
    "Product2=Product\n",
    "Product2[0:2]"
   ]
  },
  {
   "cell_type": "code",
   "execution_count": null,
   "id": "b3856fb6",
   "metadata": {},
   "outputs": [],
   "source": [
    "Price_Name=driver.find_elements_by_xpath('//div[@class=\"_30jeq3\"]')\n",
    "Price=[]\n",
    "for i in Price_Name:\n",
    "    Price.append(i.text)\n",
    "Price2=Price[0:40]\n",
    "Price2[0:2]"
   ]
  },
  {
   "cell_type": "code",
   "execution_count": null,
   "id": "32ecdfeb",
   "metadata": {},
   "outputs": [],
   "source": [
    "Next_btn=driver.find_element_by_xpath('//*[@id=\"container\"]/div/div[3]/div[1]/div[2]/div[12]/div/div/nav/a[12]/span')\n",
    "Next_btn\n",
    "Next_btn.click()"
   ]
  },
  {
   "cell_type": "code",
   "execution_count": null,
   "id": "17f7e882",
   "metadata": {},
   "outputs": [],
   "source": [
    "Brand_Name=driver.find_elements_by_xpath('//div[@class=\"_2WkVRV\"]')\n",
    "Brand=[]\n",
    "for i in Brand_Name:\n",
    "    Brand.append(i.text)\n",
    "len(Brand)\n",
    "Brand3=Brand[0:20]\n",
    "Brand3[0:2]"
   ]
  },
  {
   "cell_type": "code",
   "execution_count": null,
   "id": "d2a90aa0",
   "metadata": {},
   "outputs": [],
   "source": [
    "Product_Description=driver.find_elements_by_xpath('//a[@class=\"IRpwTa\"]')\n",
    "Product=[]\n",
    "for i in Product_Description:\n",
    "    Product.append(i.text)\n",
    "Product3=Product[0:20]\n",
    "Product3[0:2]"
   ]
  },
  {
   "cell_type": "code",
   "execution_count": null,
   "id": "cf16cd6c",
   "metadata": {},
   "outputs": [],
   "source": [
    "Price_Name=driver.find_elements_by_xpath('//div[@class=\"_30jeq3\"]')\n",
    "Price=[]\n",
    "for i in Price_Name:\n",
    "    Price.append(i.text)\n",
    "Price3=Price[0:20]\n",
    "Price3[0:2]"
   ]
  },
  {
   "cell_type": "code",
   "execution_count": null,
   "id": "cda64512",
   "metadata": {},
   "outputs": [],
   "source": [
    "Brand_Final=Brand1+Brand2+Brand3\n",
    "Product_Final=Product1+Product2+Product3\n",
    "Price_Final=Price1+Price2+Price3"
   ]
  },
  {
   "cell_type": "code",
   "execution_count": null,
   "id": "34a089c9",
   "metadata": {},
   "outputs": [],
   "source": [
    "len(Brand_Final),len(Product_Final),len(Price_Final)"
   ]
  },
  {
   "cell_type": "code",
   "execution_count": null,
   "id": "c790af88",
   "metadata": {},
   "outputs": [],
   "source": [
    "sunglasses=pd.DataFrame({'Brand Name':Brand_Final,'Product details':Product_Final,'Price':'Price_Final'})\n",
    "sunglasses"
   ]
  },
  {
   "cell_type": "markdown",
   "id": "a695bced",
   "metadata": {},
   "source": [
    "# Q5: Scrape 100 reviews data from flipkart.com for iphone11 phone."
   ]
  },
  {
   "cell_type": "code",
   "execution_count": null,
   "id": "7f64bb5c",
   "metadata": {},
   "outputs": [],
   "source": [
    "!pip install selenium\n",
    "!pip install webdriver-manager\n",
    "import selenium\n",
    "from selenium import webdriver\n",
    "from webdriver_manager.chrome import ChromeDriverManager\n",
    "import pandas as pd\n",
    "import warnings\n",
    "warnings.filterwarnings(\"ignore\")\n",
    "driver=webdriver.Chrome(ChromeDriverManager().install())\n"
   ]
  },
  {
   "cell_type": "code",
   "execution_count": null,
   "id": "22fc96a0",
   "metadata": {},
   "outputs": [],
   "source": [
    "Rating = []\n",
    "Review = []\n",
    "Fullreview = []\n",
    "\n",
    "for page in range(1, 11):\n",
    "    page_url = \"https://www.flipkart.com/apple-iphone-11-black-64-gb-includes- earpods-power\u0002adapter/p/itm0f37c2240b217?pid=MOBFKCTSVZAXUHGR&lid=LSTMOBFKCTSVZAXUHGREPBFGI&marketplace'\" + str(page)\n",
    "    driver.get(page_url) \n",
    "    rating=driver.find_elements_by_xpath('//div[@class=\"_3LWZlK _1BLPMq\"]')\n",
    "    review=driver.find_elements_by_xpath('//p[@class=\"_2-N8zT\"]')\n",
    "    fullreview=driver.find_elements_by_xpath('//div[@class=\"t-ZTKy\"]')\n",
    "    for i in rating:\n",
    "        Rating.append(i.text)\n",
    "    for i in review:\n",
    "        Review.append(i.text)\n",
    "    for i in fullreview:\n",
    "        Fullreview.append(i.text)\n",
    "    button= driver.find_element_by_xpath('//*[@id=\"container\"]/div/div[3]/div[1]/div[2]/div[8]/div/div/div[5]/div/a/div/span')\n",
    "    button.click()\n",
    "    Next=driver.find_elements_by_xpath('//*[@id=\"container\"]/div/div[3]/div/div/div[2]/div[13]/div/div/nav/a[11]/span')\n",
    "iphone=pd.DataFrame({'Rating':Rating,'Review':Review,'Fullreview':Fullreview})\n",
    "iphone.head(2)"
   ]
  },
  {
   "cell_type": "markdown",
   "id": "9459ebea",
   "metadata": {},
   "source": [
    "# Q6: Scrape data for first 100 sneakers you find when you visit flipkart.com andsearch for “sneakers” in the search field."
   ]
  },
  {
   "cell_type": "code",
   "execution_count": null,
   "id": "1355f282",
   "metadata": {},
   "outputs": [],
   "source": [
    "!pip install selenium\n",
    "!pip install webdriver-manager\n",
    "import selenium\n",
    "from selenium import webdriver\n",
    "from webdriver_manager.chrome import ChromeDriverManager\n",
    "import pandas as pd\n",
    "import warnings\n",
    "warnings.filterwarnings(\"ignore\")\n",
    "driver=webdriver.Chrome(ChromeDriverManager().install())\n",
    "url='https://www.flipkart.com/'\n",
    "driver.get(url)"
   ]
  },
  {
   "cell_type": "code",
   "execution_count": null,
   "id": "effc733f",
   "metadata": {},
   "outputs": [],
   "source": [
    "search_title=driver.find_element_by_xpath('//*[@id=\"container\"]/div/div[1]/div[1]/div[2]/div[2]/form/div/div/input')\n",
    "search_title\n",
    "search_title.send_keys('sneakers')"
   ]
  },
  {
   "cell_type": "code",
   "execution_count": null,
   "id": "2c9398a9",
   "metadata": {},
   "outputs": [],
   "source": [
    "search_btn=driver.find_element_by_xpath('//*[@id=\"container\"]/div/div[1]/div[1]/div[2]/div[2]/form/div/button')\n",
    "search_btn\n",
    "search_btn.click()"
   ]
  },
  {
   "cell_type": "code",
   "execution_count": null,
   "id": "bb33eaf0",
   "metadata": {},
   "outputs": [],
   "source": [
    "Brand_Name=driver.find_elements_by_xpath('//div[@class=\"_2WkVRV\"]')\n",
    "Brand=[]\n",
    "for i in Brand_Name:\n",
    "    Brand.append(i.text)\n",
    "len(Brand)\n",
    "Brand1=Brand\n",
    "Brand1[0:2]"
   ]
  },
  {
   "cell_type": "code",
   "execution_count": null,
   "id": "e84156db",
   "metadata": {},
   "outputs": [],
   "source": [
    "Product_Description=driver.find_elements_by_xpath('//a[@class=\"IRpwTa\"]')\n",
    "\n",
    "Product=[]\n",
    "for i in Product_Description:\n",
    "    Product.append(i.text)\n",
    "Product_Description=driver.find_elements_by_xpath('//a[@class=\"IRpwTa _2-ICcC\"]')\n",
    "for i in Product_Description:\n",
    "    Product.append(i.text)\n",
    "Product1=Product\n",
    "Product1[0:2]\n"
   ]
  },
  {
   "cell_type": "code",
   "execution_count": null,
   "id": "18515b65",
   "metadata": {},
   "outputs": [],
   "source": [
    "Price_Name=driver.find_elements_by_xpath('//div[@class=\"_30jeq3\"]')\n",
    "Price=[]\n",
    "for i in Price_Name:\n",
    "    Price.append(i.text)\n",
    "Price1=Price[0:40]\n",
    "Price1[0:2]"
   ]
  },
  {
   "cell_type": "code",
   "execution_count": null,
   "id": "2d5fb87f",
   "metadata": {},
   "outputs": [],
   "source": [
    "Next_btn=driver.find_element_by_xpath('//*[@id=\"container\"]/div/div[3]/div[1]/div[2]/div[12]/div/div/nav/a[11]/span')\n",
    "Next_btn\n",
    "Next_btn.click()"
   ]
  },
  {
   "cell_type": "code",
   "execution_count": null,
   "id": "736e5172",
   "metadata": {},
   "outputs": [],
   "source": [
    "Brand_Name=driver.find_elements_by_xpath('//div[@class=\"_2WkVRV\"]')\n",
    "Brand=[]\n",
    "for i in Brand_Name:\n",
    "    Brand.append(i.text)\n",
    "len(Brand)\n",
    "Brand2=Brand\n",
    "Brand2[0:2]"
   ]
  },
  {
   "cell_type": "code",
   "execution_count": null,
   "id": "2f0bf637",
   "metadata": {},
   "outputs": [],
   "source": [
    "Product_Description=driver.find_elements_by_xpath('//a[@class=\"IRpwTa\"]')\n",
    "\n",
    "Product=[]\n",
    "for i in Product_Description:\n",
    "    Product.append(i.text)\n",
    "Product_Description=driver.find_elements_by_xpath('//a[@class=\"IRpwTa _2-ICcC\"]')\n",
    "for i in Product_Description:\n",
    "    Product.append(i.text)\n",
    "Product2=Product\n",
    "Product2[0:2]"
   ]
  },
  {
   "cell_type": "code",
   "execution_count": null,
   "id": "6b8a5777",
   "metadata": {},
   "outputs": [],
   "source": [
    "Price_Name=driver.find_elements_by_xpath('//div[@class=\"_30jeq3\"]')\n",
    "Price=[]\n",
    "for i in Price_Name:\n",
    "    Price.append(i.text)\n",
    "Price2=Price[0:40]\n",
    "Price2[0:2]"
   ]
  },
  {
   "cell_type": "code",
   "execution_count": null,
   "id": "f04646a8",
   "metadata": {},
   "outputs": [],
   "source": [
    "Next_btn=driver.find_element_by_xpath('//*[@id=\"container\"]/div/div[3]/div[1]/div[2]/div[12]/div/div/nav/a[12]/span')\n",
    "Next_btn\n",
    "Next_btn.click()"
   ]
  },
  {
   "cell_type": "code",
   "execution_count": null,
   "id": "b8ba6b46",
   "metadata": {},
   "outputs": [],
   "source": [
    "Brand_Name=driver.find_elements_by_xpath('//div[@class=\"_2WkVRV\"]')\n",
    "Brand=[]\n",
    "for i in Brand_Name:\n",
    "    Brand.append(i.text)\n",
    "len(Brand)\n",
    "Brand3=Brand[0:20]\n",
    "Brand3[0:2]"
   ]
  },
  {
   "cell_type": "code",
   "execution_count": null,
   "id": "73d364c0",
   "metadata": {},
   "outputs": [],
   "source": [
    "Product_Description=driver.find_elements_by_xpath('//a[@class=\"IRpwTa\"]')\n",
    "Product=[]\n",
    "for i in Product_Description:\n",
    "    Product.append(i.text)\n",
    "Product3=Product[0:20]\n",
    "Product3[0:2]"
   ]
  },
  {
   "cell_type": "code",
   "execution_count": null,
   "id": "386b496b",
   "metadata": {},
   "outputs": [],
   "source": [
    "Price_Name=driver.find_elements_by_xpath('//div[@class=\"_30jeq3\"]')\n",
    "Price=[]\n",
    "for i in Price_Name:\n",
    "    Price.append(i.text)\n",
    "Price3=Price[0:20]\n",
    "Price3[0:2]"
   ]
  },
  {
   "cell_type": "code",
   "execution_count": null,
   "id": "f203cb57",
   "metadata": {},
   "outputs": [],
   "source": [
    "Brand_Final=Brand1+Brand2+Brand3\n",
    "Product_Final=Product1+Product2+Product3\n",
    "Price_Final=Price1+Price2+Price3"
   ]
  },
  {
   "cell_type": "code",
   "execution_count": null,
   "id": "18d5f945",
   "metadata": {},
   "outputs": [],
   "source": [
    "len(Brand_Final),len(Product_Final),len(Price_Final)"
   ]
  },
  {
   "cell_type": "code",
   "execution_count": null,
   "id": "e21f83d0",
   "metadata": {},
   "outputs": [],
   "source": [
    "sneakers=pd.DataFrame({'Brand Name':Brand_Final,'Product details':Product_Final,'Price':Price_Final})\n",
    "sneakers.head()"
   ]
  },
  {
   "cell_type": "markdown",
   "id": "a2d50f0c",
   "metadata": {},
   "source": [
    "# Q7: Go to the link - https://www.myntra.com/shoes Set Price filter to “Rs. 7149 to Rs. 14099 ” , Color filter to “Black”, "
   ]
  },
  {
   "cell_type": "code",
   "execution_count": null,
   "id": "51ffd634",
   "metadata": {},
   "outputs": [],
   "source": [
    "!pip install selenium\n",
    "!pip install webdriver-manager\n",
    "import selenium\n",
    "from selenium import webdriver\n",
    "from webdriver_manager.chrome import ChromeDriverManager\n",
    "import pandas as pd\n",
    "import warnings\n",
    "warnings.filterwarnings(\"ignore\")\n",
    "driver=webdriver.Chrome(ChromeDriverManager().install())\n",
    "url='https://www.myntra.com/shoes'\n",
    "driver.get(url)"
   ]
  },
  {
   "cell_type": "code",
   "execution_count": null,
   "id": "b02356d3",
   "metadata": {},
   "outputs": [],
   "source": [
    "price_btn=driver.find_element_by_xpath('//*[@id=\"mountRoot\"]/div/div[1]/main/div[3]/div[1]/section/div/div[5]/ul/li[2]/label')\n",
    "price_btn\n",
    "price_btn.click()"
   ]
  },
  {
   "cell_type": "code",
   "execution_count": null,
   "id": "f385db9d",
   "metadata": {},
   "outputs": [],
   "source": [
    "color_btn=driver.find_element_by_xpath('//*[@id=\"mountRoot\"]/div/div[1]/main/div[3]/div[1]/section/div/div[6]/ul/li[1]/label')\n",
    "color_btn\n",
    "color_btn.click()"
   ]
  },
  {
   "cell_type": "code",
   "execution_count": null,
   "id": "e0817bc2",
   "metadata": {},
   "outputs": [],
   "source": [
    "Brand_Name=driver.find_elements_by_xpath('//h3[@class=\"product-brand\"]')\n",
    "Brand=[]\n",
    "for i in Brand_Name:\n",
    "    Brand.append(i.text)\n",
    "len(Brand)\n",
    "Brand1=Brand\n",
    "Brand1[0:2]"
   ]
  },
  {
   "cell_type": "code",
   "execution_count": null,
   "id": "73ce22bb",
   "metadata": {},
   "outputs": [],
   "source": [
    "Product_Description=driver.find_elements_by_xpath('//h4[@class=\"product-product\"]')\n",
    "Product=[]\n",
    "for i in Product_Description:\n",
    "    Product.append(i.text)\n",
    "Product1=Product\n",
    "Product1[0:2]"
   ]
  },
  {
   "cell_type": "code",
   "execution_count": null,
   "id": "33211a4c",
   "metadata": {},
   "outputs": [],
   "source": [
    "Price_Name=driver.find_elements_by_xpath('//div[@class=\"product-price\"]')\n",
    "Price=[]\n",
    "for i in Price_Name:\n",
    "    Price.append(i.text)\n",
    "Price1=Price\n",
    "Price1[0:2]"
   ]
  },
  {
   "cell_type": "code",
   "execution_count": null,
   "id": "dc0d091b",
   "metadata": {},
   "outputs": [],
   "source": [
    "Next_btn=driver.find_element_by_xpath('//*[@id=\"desktopSearchResults\"]/div[2]/section/div[2]/ul/li[12]/a')\n",
    "Next_btn\n",
    "Next_btn.click()"
   ]
  },
  {
   "cell_type": "code",
   "execution_count": null,
   "id": "20b85aa9",
   "metadata": {},
   "outputs": [],
   "source": [
    "Brand_Name=driver.find_elements_by_xpath('//h3[@class=\"product-brand\"]')\n",
    "Brand=[]\n",
    "for i in Brand_Name:\n",
    "    Brand.append(i.text)\n",
    "len(Brand)\n",
    "Brand2=Brand\n",
    "Brand2[0:2]"
   ]
  },
  {
   "cell_type": "code",
   "execution_count": null,
   "id": "8381780b",
   "metadata": {},
   "outputs": [],
   "source": [
    "Product_Description=driver.find_elements_by_xpath('//h4[@class=\"product-product\"]')\n",
    "Product=[]\n",
    "for i in Product_Description:\n",
    "    Product.append(i.text)\n",
    "Product2=Product\n",
    "Product2[0:2]"
   ]
  },
  {
   "cell_type": "code",
   "execution_count": null,
   "id": "69366032",
   "metadata": {},
   "outputs": [],
   "source": [
    "Price_Name=driver.find_elements_by_xpath('//div[@class=\"product-price\"]')\n",
    "Price=[]\n",
    "for i in Price_Name:\n",
    "    Price.append(i.text)\n",
    "Price2=Price\n",
    "Price2[0:2]"
   ]
  },
  {
   "cell_type": "code",
   "execution_count": null,
   "id": "9d4b72f0",
   "metadata": {},
   "outputs": [],
   "source": [
    "Brand_Final=Brand1+Brand2\n",
    "Product_Final=Product1+Product2\n",
    "Price_Final=Price1+Price2"
   ]
  },
  {
   "cell_type": "code",
   "execution_count": null,
   "id": "f8998a4b",
   "metadata": {},
   "outputs": [],
   "source": [
    "len(Brand_Final),len(Product_Final),len(Price_Final)"
   ]
  },
  {
   "cell_type": "code",
   "execution_count": null,
   "id": "9ff27409",
   "metadata": {},
   "outputs": [],
   "source": [
    "Shoes=pd.DataFrame({'Brand Name':Brand_Final,'Product details':Product_Final,'Price':Price_Final})\n",
    "Shoes.head()"
   ]
  },
  {
   "cell_type": "markdown",
   "id": "764ec0b6",
   "metadata": {},
   "source": [
    "# Q8: Go to webpage https://www.amazon.in/ Enter “Laptop” in the search field and then click the search icon. Then set CPU Type filter to “Intel Core i7” and “Intel Core i9”"
   ]
  },
  {
   "cell_type": "code",
   "execution_count": null,
   "id": "eff1bcdc",
   "metadata": {},
   "outputs": [],
   "source": [
    "!pip install selenium\n",
    "!pip install webdriver-manager\n",
    "import selenium\n",
    "from selenium import webdriver\n",
    "from webdriver_manager.chrome import ChromeDriverManager\n",
    "import pandas as pd\n",
    "import warnings\n",
    "warnings.filterwarnings(\"ignore\")\n",
    "driver=webdriver.Chrome(ChromeDriverManager().install())\n",
    "url='https://www.amazon.in/'\n",
    "driver.get(url)"
   ]
  },
  {
   "cell_type": "code",
   "execution_count": null,
   "id": "e6b54687",
   "metadata": {},
   "outputs": [],
   "source": [
    "search_title=driver.find_element_by_xpath('//*[@id=\"twotabsearchtextbox\"]')\n",
    "search_title\n",
    "search_title.send_keys('Laptop')"
   ]
  },
  {
   "cell_type": "code",
   "execution_count": null,
   "id": "0ba51e67",
   "metadata": {},
   "outputs": [],
   "source": [
    "search_btn=driver.find_element_by_xpath('//*[@id=\"nav-search-submit-button\"]')\n",
    "search_btn\n",
    "search_btn.click()"
   ]
  },
  {
   "cell_type": "code",
   "execution_count": null,
   "id": "6b33939a",
   "metadata": {},
   "outputs": [],
   "source": [
    "CPUi7_btn=driver.find_element_by_xpath('//*[@id=\"p_n_feature_thirteen_browse-bin/12598163031\"]/span/a/span')\n",
    "CPUi7_btn\n",
    "CPUi7_btn.click()"
   ]
  },
  {
   "cell_type": "code",
   "execution_count": null,
   "id": "cce683ac",
   "metadata": {},
   "outputs": [],
   "source": [
    "title_Name=driver.find_elements_by_xpath('//h2[@class=\"a-size-mini a-spacing-none a-color-base s-line-clamp-2\"]')\n",
    "Title=[]\n",
    "for i in title_Name:\n",
    "    Title.append(i.text)\n",
    "len(Title)\n",
    "Title1=Title[0:10]\n",
    "Title1[0:2]"
   ]
  },
  {
   "cell_type": "code",
   "execution_count": null,
   "id": "f182ffb6",
   "metadata": {},
   "outputs": [],
   "source": [
    "rating=driver.find_elements_by_xpath('//span[@class=\"a-icon-alt\"]')\n",
    "Rating=[]\n",
    "for i in rating:\n",
    "    Rating.append(i.text)\n",
    "    len(Rating)\n",
    "Rating   "
   ]
  },
  {
   "cell_type": "code",
   "execution_count": null,
   "id": "149ef8b8",
   "metadata": {},
   "outputs": [],
   "source": [
    "Price_Name=driver.find_elements_by_xpath('//span[@class=\"a-price-whole\"]')\n",
    "Price=[]\n",
    "for i in Price_Name:\n",
    "    Price.append(i.text)\n",
    "Price1=Price\n",
    "Price1[0:2]"
   ]
  },
  {
   "cell_type": "code",
   "execution_count": null,
   "id": "a8dc22ff",
   "metadata": {},
   "outputs": [],
   "source": [
    "iphone=pd.DataFrame({'Name':Title1,'Rating':Rating,'Price':Price1})\n",
    "iphone.head()"
   ]
  },
  {
   "cell_type": "markdown",
   "id": "51592406",
   "metadata": {},
   "source": [
    "# Q9: Write a python program to scrape data for first 10 job results for Data Scientist Designation in Noida location. You have to scrape company name, No. of days ago when job was posted, Rating of the company"
   ]
  },
  {
   "cell_type": "code",
   "execution_count": null,
   "id": "f9b5e8d0",
   "metadata": {},
   "outputs": [],
   "source": [
    "!pip install selenium\n",
    "!pip install webdriver-manager\n",
    "import selenium\n",
    "from selenium import webdriver\n",
    "from webdriver_manager.chrome import ChromeDriverManager\n",
    "import pandas as pd\n",
    "import warnings\n",
    "warnings.filterwarnings(\"ignore\")\n",
    "driver=webdriver.Chrome(ChromeDriverManager().install())\n",
    "url='https://www.ambitionbox.com/'\n",
    "driver.get(url)"
   ]
  },
  {
   "cell_type": "code",
   "execution_count": null,
   "id": "13bb1407",
   "metadata": {},
   "outputs": [],
   "source": [
    "search_btn=driver.find_element_by_xpath('//*[@id=\"headerWrapper\"]/nav/nav/a[6]')\n",
    "search_btn\n",
    "search_btn.click()"
   ]
  },
  {
   "cell_type": "code",
   "execution_count": null,
   "id": "b3813bca",
   "metadata": {},
   "outputs": [],
   "source": [
    "search_title=driver.find_element_by_xpath('//*[@id=\"jobs-typeahead\"]/span/input')\n",
    "search_title\n",
    "search_title.send_keys('Data Scientist')"
   ]
  },
  {
   "cell_type": "code",
   "execution_count": null,
   "id": "7e5ffacd",
   "metadata": {},
   "outputs": [],
   "source": [
    "search_btn1=driver.find_element_by_xpath('//*[@id=\"jobs\"]/div[2]/div[1]/div/div/div/button/span')\n",
    "search_btn1\n",
    "search_btn1.click()"
   ]
  },
  {
   "cell_type": "code",
   "execution_count": null,
   "id": "fe0bb74c",
   "metadata": {},
   "outputs": [],
   "source": [
    "search_btn2=driver.find_element_by_xpath('//*[@id=\"filters-row\"]/div/div/div[2]/div[2]/div/div[3]/div[1]/div[1]/div/label')\n",
    "search_btn2\n",
    "search_btn2.click()"
   ]
  },
  {
   "cell_type": "code",
   "execution_count": null,
   "id": "2d0610aa",
   "metadata": {},
   "outputs": [],
   "source": [
    "company_Name=driver.find_elements_by_xpath('//p[@class=\"company body-medium\"]')\n",
    "Company=[]\n",
    "for i in company_Name:\n",
    "    Company.append(i.text)\n",
    "len(Company)\n",
    "Company"
   ]
  },
  {
   "cell_type": "code",
   "execution_count": null,
   "id": "3c86b35a",
   "metadata": {},
   "outputs": [],
   "source": [
    "rating=driver.find_elements_by_xpath('//span[@class=\"body-small\"]')\n",
    "Rating=[]\n",
    "for i in rating:\n",
    "    Rating.append(i.text)\n",
    "len(Rating)\n",
    "Rating"
   ]
  },
  {
   "cell_type": "code",
   "execution_count": null,
   "id": "1d071b54",
   "metadata": {},
   "outputs": [],
   "source": [
    "duration=driver.find_elements_by_xpath('//span[@class=\"body-small-l\"]')\n",
    "Duration=[]\n",
    "for i in duration:\n",
    "    Duration.append(i.text)\n",
    "len(Duration)\n",
    "Duration1=Duration[0:20:2]\n",
    "Duration1"
   ]
  },
  {
   "cell_type": "code",
   "execution_count": null,
   "id": "c6598806",
   "metadata": {},
   "outputs": [],
   "source": [
    "jobs=pd.DataFrame({'Company Name':Company,'Post Date':Duration1,'Rating':Rating})\n",
    "jobs.head()"
   ]
  },
  {
   "cell_type": "markdown",
   "id": "07ee5bc3",
   "metadata": {},
   "source": [
    "# Q10 Write a python program to scrape the salary data for Data Scientist designation. You have to scrape Company name, Number of salaries, Average salary, Minsalary, Max Salary."
   ]
  },
  {
   "cell_type": "code",
   "execution_count": null,
   "id": "ed6deaa1",
   "metadata": {},
   "outputs": [],
   "source": [
    "!pip install selenium\n",
    "!pip install webdriver-manager\n",
    "import selenium\n",
    "from selenium import webdriver\n",
    "from webdriver_manager.chrome import ChromeDriverManager\n",
    "import pandas as pd\n",
    "import warnings\n",
    "warnings.filterwarnings(\"ignore\")\n",
    "driver=webdriver.Chrome(ChromeDriverManager().install())"
   ]
  },
  {
   "cell_type": "code",
   "execution_count": null,
   "id": "a34d6454",
   "metadata": {},
   "outputs": [],
   "source": [
    "url='https://www.ambitionbox.com/'\n",
    "driver.get(url)"
   ]
  },
  {
   "cell_type": "code",
   "execution_count": null,
   "id": "0709fb88",
   "metadata": {},
   "outputs": [],
   "source": [
    "search_btn=driver.find_element_by_xpath('//*[@id=\"headerWrapper\"]/nav/nav/a[4]')\n",
    "search_btn\n",
    "search_btn.click()"
   ]
  },
  {
   "cell_type": "code",
   "execution_count": null,
   "id": "76c57d77",
   "metadata": {},
   "outputs": [],
   "source": [
    "search_title=driver.find_element_by_xpath('//*[@id=\"jobProfileSearchbox\"]')\n",
    "search_title\n",
    "search_title.send_keys('Data Scientist')"
   ]
  },
  {
   "cell_type": "code",
   "execution_count": null,
   "id": "63c80ab9",
   "metadata": {},
   "outputs": [],
   "source": [
    "search_btn1=driver.find_element_by_xpath('//*[@id=\"salaries\"]/main/section[1]/div[2]/div[1]/i[1]')\n",
    "search_btn1\n",
    "search_btn1.click()"
   ]
  },
  {
   "cell_type": "code",
   "execution_count": null,
   "id": "38f2edc9",
   "metadata": {},
   "outputs": [],
   "source": [
    "company_Name=driver.find_elements_by_xpath('//div[@class=\"name\"]')\n",
    "Company=[]\n",
    "for i in company_Name:\n",
    "    Company.append(i.text)\n",
    "len(Company)\n",
    "Company"
   ]
  },
  {
   "cell_type": "code",
   "execution_count": null,
   "id": "5430dc22",
   "metadata": {},
   "outputs": [],
   "source": [
    "experience=driver.find_elements_by_xpath('//div[@class=\"salaries sbold-list-header\"]')\n",
    "Experience=[]\n",
    "for i in experience:\n",
    "    Experience.append(i.text)\n",
    "Experience"
   ]
  },
  {
   "cell_type": "code",
   "execution_count": null,
   "id": "ff5274ac",
   "metadata": {},
   "outputs": [],
   "source": [
    "avg_salary=driver.find_elements_by_xpath('//p[@class=\"averageCtc\"]')\n",
    "Salary1=[]\n",
    "for i in avg_salary:\n",
    "    Salary1.append(i.text)\n",
    "Salary=Salary1[0:12]\n",
    "Salary"
   ]
  },
  {
   "cell_type": "code",
   "execution_count": null,
   "id": "59f69c24",
   "metadata": {},
   "outputs": [],
   "source": [
    "min_salary=driver.find_elements_by_xpath('//div[@class=\"value body-medium\"]')\n",
    "Salary2=[]\n",
    "for i in min_salary:\n",
    "    Salary2.append(i.text)\n",
    "SalaryMin=Salary2[0:20:2]\n",
    "SalaryMin"
   ]
  },
  {
   "cell_type": "code",
   "execution_count": null,
   "id": "0141c6b9",
   "metadata": {},
   "outputs": [],
   "source": [
    "max_salary=driver.find_elements_by_xpath('//div[@class=\"value body-medium\"]')\n",
    "Salary3=[]\n",
    "for i in max_salary:\n",
    "    Salary3.append(i.text)\n",
    "SalaryMax=Salary3[1:21:2]\n",
    "SalaryMax"
   ]
  },
  {
   "cell_type": "code",
   "execution_count": null,
   "id": "80c75c8f",
   "metadata": {},
   "outputs": [],
   "source": [
    "jobs=pd.DataFrame({'Company Name and Total Salaries':Company,'Experience':Experience,'avg_salary':Salary1,'min_salary':SalaryMin,'max_salary':SalaryMin})\n",
    "jobs.head()\n"
   ]
  },
  {
   "cell_type": "code",
   "execution_count": null,
   "id": "49df7293",
   "metadata": {},
   "outputs": [],
   "source": []
  },
  {
   "cell_type": "code",
   "execution_count": null,
   "id": "5c8799d3",
   "metadata": {},
   "outputs": [],
   "source": []
  }
 ],
 "metadata": {
  "kernelspec": {
   "display_name": "Python 3",
   "language": "python",
   "name": "python3"
  },
  "language_info": {
   "codemirror_mode": {
    "name": "ipython",
    "version": 3
   },
   "file_extension": ".py",
   "mimetype": "text/x-python",
   "name": "python",
   "nbconvert_exporter": "python",
   "pygments_lexer": "ipython3",
   "version": "3.8.8"
  }
 },
 "nbformat": 4,
 "nbformat_minor": 5
}
