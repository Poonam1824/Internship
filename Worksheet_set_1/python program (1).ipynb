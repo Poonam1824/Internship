{
 "cells": [
  {
   "cell_type": "code",
   "execution_count": 2,
   "id": "e75e36c8",
   "metadata": {},
   "outputs": [
    {
     "name": "stdout",
     "output_type": "stream",
     "text": [
      "enter a number6\n",
      "factorial is 720\n"
     ]
    }
   ],
   "source": [
    "# finding factorial of a given number\n",
    "n=int(input(\"enter a number\"))\n",
    "fact=1\n",
    "if n<0:\n",
    "    print(\"Its a negative number,can't find factorial\")\n",
    "elif n==0:\n",
    "    print(\"factorial is 1\")\n",
    "else:\n",
    "    for i in range(1,n+1):\n",
    "        fact=fact*i\n",
    "    print(\"factorial is\",fact)"
   ]
  },
  {
   "cell_type": "code",
   "execution_count": 4,
   "id": "6b32c9b8",
   "metadata": {},
   "outputs": [
    {
     "name": "stdout",
     "output_type": "stream",
     "text": [
      "Enter any number : 24\n",
      "24 is a composite number\n"
     ]
    }
   ],
   "source": [
    "#12.finding whether a given number is a prime or composite number\n",
    "n = int(input(\"Enter any number : \"))\n",
    "if n > 1:\n",
    "    for i in range(2, n):\n",
    "        if (n % i) == 0:\n",
    "            print(n, \"is a composite number\")\n",
    "            break\n",
    "    else:\n",
    "        print(n, \"is a prime number\")\n",
    "elif n == 0 or 1:\n",
    "    print(n, \"is a neither prime nor composite number\")\n",
    "else:\n",
    "    pass"
   ]
  },
  {
   "cell_type": "code",
   "execution_count": 7,
   "id": "2c52658e",
   "metadata": {},
   "outputs": [
    {
     "name": "stdout",
     "output_type": "stream",
     "text": [
      "enter a string mom \n",
      "The given string is a palindrome\n"
     ]
    }
   ],
   "source": [
    "#13.to check whether given string is palindrome or not\n",
    "s=input(\"enter a string\")\n",
    "if (s==s[::-1]):\n",
    "    print(\"The given string is a palindrome\")\n",
    "else:\n",
    "    print(\"The given string is not a palindrome\")"
   ]
  },
  {
   "cell_type": "code",
   "execution_count": 1,
   "id": "4f2165a6",
   "metadata": {},
   "outputs": [
    {
     "name": "stdout",
     "output_type": "stream",
     "text": [
      "Hypotenuse = 5.0\n",
      "Adjacent = 4.0\n",
      "Opposite = 3.0\n"
     ]
    }
   ],
   "source": [
    "#14.to find out third side of right angke traingle if two sides are given\n",
    "def pythagoras(opposite_side,adjacent_side,hypotenuse):\n",
    "        if opposite_side == str(\"x\"):\n",
    "            return (\"Opposite = \" + str(((hypotenuse**2) - (adjacent_side**2))**0.5))\n",
    "        elif adjacent_side == str(\"x\"):\n",
    "            return (\"Adjacent = \" + str(((hypotenuse**2) - (opposite_side**2))**0.5))\n",
    "        elif hypotenuse == str(\"x\"):\n",
    "            return (\"Hypotenuse = \" + str(((opposite_side**2) + (adjacent_side**2))**0.5))\n",
    "        else:\n",
    "            return \"You know the answer!\"\n",
    "    \n",
    "print(pythagoras(3,4,'x'))\n",
    "print(pythagoras(3,'x',5))\n",
    "print(pythagoras('x',4,5))"
   ]
  },
  {
   "cell_type": "code",
   "execution_count": 2,
   "id": "801ae9d4",
   "metadata": {},
   "outputs": [
    {
     "name": "stdout",
     "output_type": "stream",
     "text": [
      "enter a string aanand\n",
      "{'a': 3, 'n': 2, 'd': 1}\n"
     ]
    }
   ],
   "source": [
    "#15. to print the frequency of each of the characters present in a given string\n",
    "def frequency(str1):\n",
    "    dict = {}\n",
    "    for n in str1:\n",
    "        keys = dict.keys()\n",
    "        if n in keys:\n",
    "            dict[n] += 1\n",
    "        else:\n",
    "            dict[n] = 1\n",
    "    return dict\n",
    "str1=input(\"enter a string \")\n",
    "print(frequency(str1))"
   ]
  },
  {
   "cell_type": "code",
   "execution_count": null,
   "id": "6bd99ce1",
   "metadata": {},
   "outputs": [],
   "source": []
  },
  {
   "cell_type": "code",
   "execution_count": null,
   "id": "efd009dc",
   "metadata": {},
   "outputs": [],
   "source": []
  },
  {
   "cell_type": "code",
   "execution_count": null,
   "id": "1e393778",
   "metadata": {},
   "outputs": [],
   "source": []
  },
  {
   "cell_type": "code",
   "execution_count": null,
   "id": "38f86148",
   "metadata": {},
   "outputs": [],
   "source": []
  }
 ],
 "metadata": {
  "kernelspec": {
   "display_name": "Python 3",
   "language": "python",
   "name": "python3"
  },
  "language_info": {
   "codemirror_mode": {
    "name": "ipython",
    "version": 3
   },
   "file_extension": ".py",
   "mimetype": "text/x-python",
   "name": "python",
   "nbconvert_exporter": "python",
   "pygments_lexer": "ipython3",
   "version": "3.8.8"
  }
 },
 "nbformat": 4,
 "nbformat_minor": 5
}
